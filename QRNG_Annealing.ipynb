{
 "cells": [
  {
   "cell_type": "code",
   "execution_count": 2,
   "metadata": {},
   "outputs": [],
   "source": [
    "import numpy as np\n",
    "import pandas as pd\n",
    "import time\n",
    "import matplotlib.pyplot as plt\n",
    "import dimod\n",
    "import networkx as nx\n",
    "from dwave.system import DWaveSampler, EmbeddingComposite"
   ]
  },
  {
   "cell_type": "code",
   "execution_count": 3,
   "metadata": {},
   "outputs": [
    {
     "name": "stdout",
     "output_type": "stream",
     "text": [
      "    0  1  2  3  4 energy num_oc. chain_.\n",
      "0   0  1  1  0  0    0.0       1     0.0\n",
      "1   1  1  1  0  0    0.0       3     0.0\n",
      "2   1  1  0  1  1    0.0       2     0.0\n",
      "3   0  0  1  0  0    0.0       1     0.0\n",
      "4   1  0  0  0  1    0.0       2     0.0\n",
      "5   1  1  1  1  1    0.0       1     0.0\n",
      "6   1  1  0  1  0    0.0       1     0.0\n",
      "7   1  1  1  0  1    0.0       4     0.0\n",
      "8   0  0  0  1  1    0.0       1     0.0\n",
      "9   1  0  0  1  0    0.0       1     0.0\n",
      "10  1  1  1  1  0    0.0       1     0.0\n",
      "11  1  0  1  0  1    0.0       1     0.0\n",
      "12  0  1  1  1  1    0.0       1     0.0\n",
      "['BINARY', 13 rows, 20 samples, 5 variables]\n"
     ]
    }
   ],
   "source": [
    "n = 5   # length of each random bit array\n",
    "\n",
    "shots = 20\n",
    "bqm_qubo = dimod.BinaryQuadraticModel.from_numpy_matrix(np.zeros((n,n)))\n",
    "# sampleset = EmbeddingComposite(DWaveSampler(endpoint='https://cloud.dwavesys.com/sapi',\\\n",
    "#                                token='DEV-d1f6e1d1c38fbe9219ce7713e110736473b657a0', \\\n",
    "#                                solver={'qpu': True})).sample(bqm_qubo, num_reads = shots)\n",
    "sampleset = EmbeddingComposite(DWaveSampler(solver={'qpu': True})).sample(bqm_qubo, num_reads=shots)\n",
    "\n",
    "\n",
    "print(sampleset.aggregate())"
   ]
  },
  {
   "cell_type": "code",
   "execution_count": 4,
   "metadata": {},
   "outputs": [
    {
     "data": {
      "text/html": [
       "<div>\n",
       "<style scoped>\n",
       "    .dataframe tbody tr th:only-of-type {\n",
       "        vertical-align: middle;\n",
       "    }\n",
       "\n",
       "    .dataframe tbody tr th {\n",
       "        vertical-align: top;\n",
       "    }\n",
       "\n",
       "    .dataframe thead th {\n",
       "        text-align: right;\n",
       "    }\n",
       "</style>\n",
       "<table border=\"1\" class=\"dataframe\">\n",
       "  <thead>\n",
       "    <tr style=\"text-align: right;\">\n",
       "      <th></th>\n",
       "      <th>Samples</th>\n",
       "      <th>Energy</th>\n",
       "      <th>Occurrences</th>\n",
       "      <th>chain</th>\n",
       "      <th>Numbers</th>\n",
       "      <th>selected</th>\n",
       "    </tr>\n",
       "  </thead>\n",
       "  <tbody>\n",
       "    <tr>\n",
       "      <th>0</th>\n",
       "      <td>[0, 1, 1, 0, 0]</td>\n",
       "      <td>0.0</td>\n",
       "      <td>1</td>\n",
       "      <td>0.0</td>\n",
       "      <td>12</td>\n",
       "      <td>2</td>\n",
       "    </tr>\n",
       "    <tr>\n",
       "      <th>1</th>\n",
       "      <td>[1, 1, 1, 0, 0]</td>\n",
       "      <td>0.0</td>\n",
       "      <td>3</td>\n",
       "      <td>0.0</td>\n",
       "      <td>28</td>\n",
       "      <td>3</td>\n",
       "    </tr>\n",
       "    <tr>\n",
       "      <th>2</th>\n",
       "      <td>[1, 1, 0, 1, 1]</td>\n",
       "      <td>0.0</td>\n",
       "      <td>2</td>\n",
       "      <td>0.0</td>\n",
       "      <td>27</td>\n",
       "      <td>4</td>\n",
       "    </tr>\n",
       "    <tr>\n",
       "      <th>3</th>\n",
       "      <td>[0, 0, 1, 0, 0]</td>\n",
       "      <td>0.0</td>\n",
       "      <td>1</td>\n",
       "      <td>0.0</td>\n",
       "      <td>4</td>\n",
       "      <td>1</td>\n",
       "    </tr>\n",
       "    <tr>\n",
       "      <th>4</th>\n",
       "      <td>[1, 0, 0, 0, 1]</td>\n",
       "      <td>0.0</td>\n",
       "      <td>2</td>\n",
       "      <td>0.0</td>\n",
       "      <td>17</td>\n",
       "      <td>2</td>\n",
       "    </tr>\n",
       "    <tr>\n",
       "      <th>5</th>\n",
       "      <td>[1, 1, 1, 1, 1]</td>\n",
       "      <td>0.0</td>\n",
       "      <td>1</td>\n",
       "      <td>0.0</td>\n",
       "      <td>31</td>\n",
       "      <td>5</td>\n",
       "    </tr>\n",
       "    <tr>\n",
       "      <th>6</th>\n",
       "      <td>[1, 1, 0, 1, 0]</td>\n",
       "      <td>0.0</td>\n",
       "      <td>1</td>\n",
       "      <td>0.0</td>\n",
       "      <td>26</td>\n",
       "      <td>3</td>\n",
       "    </tr>\n",
       "    <tr>\n",
       "      <th>7</th>\n",
       "      <td>[1, 1, 1, 0, 1]</td>\n",
       "      <td>0.0</td>\n",
       "      <td>4</td>\n",
       "      <td>0.0</td>\n",
       "      <td>29</td>\n",
       "      <td>4</td>\n",
       "    </tr>\n",
       "    <tr>\n",
       "      <th>8</th>\n",
       "      <td>[0, 0, 0, 1, 1]</td>\n",
       "      <td>0.0</td>\n",
       "      <td>1</td>\n",
       "      <td>0.0</td>\n",
       "      <td>3</td>\n",
       "      <td>2</td>\n",
       "    </tr>\n",
       "    <tr>\n",
       "      <th>9</th>\n",
       "      <td>[1, 0, 0, 1, 0]</td>\n",
       "      <td>0.0</td>\n",
       "      <td>1</td>\n",
       "      <td>0.0</td>\n",
       "      <td>18</td>\n",
       "      <td>2</td>\n",
       "    </tr>\n",
       "    <tr>\n",
       "      <th>10</th>\n",
       "      <td>[1, 1, 1, 1, 0]</td>\n",
       "      <td>0.0</td>\n",
       "      <td>1</td>\n",
       "      <td>0.0</td>\n",
       "      <td>30</td>\n",
       "      <td>4</td>\n",
       "    </tr>\n",
       "    <tr>\n",
       "      <th>11</th>\n",
       "      <td>[1, 0, 1, 0, 1]</td>\n",
       "      <td>0.0</td>\n",
       "      <td>1</td>\n",
       "      <td>0.0</td>\n",
       "      <td>21</td>\n",
       "      <td>3</td>\n",
       "    </tr>\n",
       "    <tr>\n",
       "      <th>12</th>\n",
       "      <td>[0, 1, 1, 1, 1]</td>\n",
       "      <td>0.0</td>\n",
       "      <td>1</td>\n",
       "      <td>0.0</td>\n",
       "      <td>15</td>\n",
       "      <td>4</td>\n",
       "    </tr>\n",
       "  </tbody>\n",
       "</table>\n",
       "</div>"
      ],
      "text/plain": [
       "            Samples  Energy  Occurrences  chain  Numbers  selected\n",
       "0   [0, 1, 1, 0, 0]     0.0            1    0.0       12         2\n",
       "1   [1, 1, 1, 0, 0]     0.0            3    0.0       28         3\n",
       "2   [1, 1, 0, 1, 1]     0.0            2    0.0       27         4\n",
       "3   [0, 0, 1, 0, 0]     0.0            1    0.0        4         1\n",
       "4   [1, 0, 0, 0, 1]     0.0            2    0.0       17         2\n",
       "5   [1, 1, 1, 1, 1]     0.0            1    0.0       31         5\n",
       "6   [1, 1, 0, 1, 0]     0.0            1    0.0       26         3\n",
       "7   [1, 1, 1, 0, 1]     0.0            4    0.0       29         4\n",
       "8   [0, 0, 0, 1, 1]     0.0            1    0.0        3         2\n",
       "9   [1, 0, 0, 1, 0]     0.0            1    0.0       18         2\n",
       "10  [1, 1, 1, 1, 0]     0.0            1    0.0       30         4\n",
       "11  [1, 0, 1, 0, 1]     0.0            1    0.0       21         3\n",
       "12  [0, 1, 1, 1, 1]     0.0            1    0.0       15         4"
      ]
     },
     "execution_count": 4,
     "metadata": {},
     "output_type": "execute_result"
    }
   ],
   "source": [
    "result = pd.DataFrame.from_records(sampleset.aggregate().record.tolist(),\n",
    "                                    columns=['Samples','Energy','Occurrences','chain'])\n",
    "\n",
    "\n",
    "# result = result.sort_values(by=['Energy'],ignore_index=True)\n",
    "result['Numbers'] =  [(int(\"\".join(str(x) for x in sample), 2)) for sample in result['Samples']]\n",
    "result['selected'] = [(int(sum(sample))) for sample in result['Samples']]\n",
    "\n",
    "result"
   ]
  },
  {
   "cell_type": "code",
   "execution_count": 8,
   "metadata": {},
   "outputs": [
    {
     "data": {
      "text/plain": [
       "BinaryQuadraticModel({0: 0.0, 1: 0.0, 2: 0.0, 3: 0.0, 4: 0.0}, {}, 0.0, 'BINARY')"
      ]
     },
     "execution_count": 8,
     "metadata": {},
     "output_type": "execute_result"
    }
   ],
   "source": [
    "bqm_qubo"
   ]
  },
  {
   "cell_type": "code",
   "execution_count": null,
   "metadata": {},
   "outputs": [],
   "source": []
  },
  {
   "cell_type": "code",
   "execution_count": 7,
   "metadata": {},
   "outputs": [
    {
     "data": {
      "text/plain": [
       "array([[0, 0, 0, 0, 0],\n",
       "       [0, 0, 0, 0, 0],\n",
       "       [0, 0, 0, 0, 0],\n",
       "       [0, 0, 0, 0, 0],\n",
       "       [0, 0, 0, 0, 0]])"
      ]
     },
     "execution_count": 7,
     "metadata": {},
     "output_type": "execute_result"
    }
   ],
   "source": [
    "bqm_qubo.to_numpy_matrix().astype(int)"
   ]
  },
  {
   "cell_type": "code",
   "execution_count": null,
   "metadata": {},
   "outputs": [],
   "source": []
  }
 ],
 "metadata": {
  "interpreter": {
   "hash": "6a0ce165f39f39f461d7e330b6adab7c0bc10d9a359439a5b3313e84146d46ef"
  },
  "kernelspec": {
   "display_name": "Python 3.8.3 ('dwave_env')",
   "language": "python",
   "name": "python3"
  },
  "language_info": {
   "codemirror_mode": {
    "name": "ipython",
    "version": 3
   },
   "file_extension": ".py",
   "mimetype": "text/x-python",
   "name": "python",
   "nbconvert_exporter": "python",
   "pygments_lexer": "ipython3",
   "version": "3.8.3"
  },
  "orig_nbformat": 4
 },
 "nbformat": 4,
 "nbformat_minor": 2
}
